{
 "cells": [
  {
   "cell_type": "markdown",
   "metadata": {},
   "source": [
    "# HW8 due 11:30a Mon Dec 5"
   ]
  },
  {
   "cell_type": "markdown",
   "metadata": {},
   "source": [
    "# Asteroids control system\n",
    "\n",
    "This problem deals with the asteroids control system (N)\n",
    "$$\\dot{x} = f(x,u),\\ y = h(x,u)$$\n",
    "with equilibrium\n",
    "$$ f(x_0,u_0) = 0$$\n",
    "and associated linear control system (L)\n",
    "$$\\dot{\\xi} = A\\xi + B\\mu,\\ \\eta = C\\xi + D\\mu$$\n",
    "obtained with $A = D_x f(x_0,u_0)$, $B = D_u f(x_0,u_0)$, $C = D_x h(x_0,u_0)$, $D = D_u h(x_0,u_0)$."
   ]
  },
  {
   "cell_type": "markdown",
   "metadata": {},
   "source": [
    "a. Assess controllability of the asteroids control system (i.e. construct the controllability matrix and determine its rank)."
   ]
  },
  {
   "cell_type": "markdown",
   "metadata": {},
   "source": [
    "b. Choose an initial condition and final condition (different from the initial condition), and use the Singular Value Decomposition of the controllability matrix to construct a control input that steers the initial condition to the final condition."
   ]
  },
  {
   "cell_type": "markdown",
   "metadata": {},
   "source": [
    "c. Assess observability of the asteroids control system  (i.e. construct the observability matrix and determine its rank)."
   ]
  },
  {
   "cell_type": "markdown",
   "metadata": {},
   "source": [
    "d. Simulate the system from an initial condition to a final condition (different from the initial condition), and use the Singular Value Decomposition of the observability matrix to construct the initial condition using the simulation's output."
   ]
  },
  {
   "cell_type": "markdown",
   "metadata": {},
   "source": [
    "# Project control system\n",
    "\n",
    "This problem deals with your project control system (N)\n",
    "$$\\dot{x} = f(x,u),\\ y = h(x,u)$$\n",
    "with equilibrium\n",
    "$$ f(x_0,u_0) = 0$$\n",
    "and associated linear control system (L)\n",
    "$$\\dot{\\xi} = A\\xi + B\\mu,\\ \\eta = C\\xi + D\\mu$$\n",
    "obtained with $A = D_x f(x_0,u_0)$, $B = D_u f(x_0,u_0)$, $C = D_x h(x_0,u_0)$, $D = D_u h(x_0,u_0)$."
   ]
  },
  {
   "cell_type": "markdown",
   "metadata": {},
   "source": [
    "a. Assess controllability of your control system (i.e. construct the controllability matrix and determine its rank)."
   ]
  },
  {
   "cell_type": "markdown",
   "metadata": {},
   "source": [
    "b. Modify your control system as needed to ensure it is controllable."
   ]
  },
  {
   "cell_type": "markdown",
   "metadata": {},
   "source": [
    "c. Choose an initial condition and final condition (different from the initial condition), and use the Singular Value Decomposition of the controllability matrix to construct a control input that steers the initial condition to the final condition."
   ]
  },
  {
   "cell_type": "markdown",
   "metadata": {},
   "source": [
    "d. Assess observability of the asteroids control system  (i.e. construct the observability matrix and determine its rank)."
   ]
  },
  {
   "cell_type": "markdown",
   "metadata": {},
   "source": [
    "e. Modify your control system as needed to ensure it is observable."
   ]
  },
  {
   "cell_type": "markdown",
   "metadata": {},
   "source": [
    "f. Simulate the system from an initial condition to a final condition (different from the initial condition), and use the Singular Value Decomposition of the observability matrix to construct the initial condition using the simulation's output."
   ]
  }
 ],
 "metadata": {
  "kernelspec": {
   "display_name": "Python 2",
   "language": "python",
   "name": "python2"
  },
  "language_info": {
   "codemirror_mode": {
    "name": "ipython",
    "version": 2
   },
   "file_extension": ".py",
   "mimetype": "text/x-python",
   "name": "python",
   "nbconvert_exporter": "python",
   "pygments_lexer": "ipython2",
   "version": "2.7.12"
  }
 },
 "nbformat": 4,
 "nbformat_minor": 0
}
